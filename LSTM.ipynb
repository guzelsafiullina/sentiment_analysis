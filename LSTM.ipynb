{
  "cells": [
    {
      "cell_type": "code",
      "execution_count": 1,
      "id": "8ab80f16",
      "metadata": {
        "id": "8ab80f16"
      },
      "outputs": [],
      "source": [
        "#pip install textblob\n",
        "import pandas as pd\n",
        "from textblob import TextBlob\n",
        "from sklearn import preprocessing"
      ]
    },
    {
      "cell_type": "code",
      "source": [
        "import nltk \n",
        "nltk.download('stopwords')\n",
        "from nltk.corpus import stopwords"
      ],
      "metadata": {
        "colab": {
          "base_uri": "https://localhost:8080/"
        },
        "id": "_Ix_KfnJXjYv",
        "outputId": "db32ddc5-4a8f-4e09-8f75-efe73037ab56"
      },
      "id": "_Ix_KfnJXjYv",
      "execution_count": 2,
      "outputs": [
        {
          "output_type": "stream",
          "name": "stderr",
          "text": [
            "[nltk_data] Downloading package stopwords to /root/nltk_data...\n",
            "[nltk_data]   Package stopwords is already up-to-date!\n"
          ]
        }
      ]
    },
    {
      "cell_type": "code",
      "execution_count": 3,
      "id": "d1a7bf13",
      "metadata": {
        "id": "d1a7bf13"
      },
      "outputs": [],
      "source": [
        "data = pd.read_csv(\"all-data.csv\",encoding=\"Windows-1252\")"
      ]
    },
    {
      "cell_type": "code",
      "execution_count": 4,
      "id": "8bf31cdb",
      "metadata": {
        "colab": {
          "base_uri": "https://localhost:8080/",
          "height": 204
        },
        "id": "8bf31cdb",
        "outputId": "b7ae42cc-3a12-4812-a862-a27c7d91349b"
      },
      "outputs": [
        {
          "output_type": "execute_result",
          "data": {
            "text/plain": [
              "    neutral  \\\n",
              "0   neutral   \n",
              "1  negative   \n",
              "2  positive   \n",
              "3  positive   \n",
              "4  positive   \n",
              "\n",
              "  According to Gran , the company has no plans to move all production to Russia , although that is where the company is growing .  \n",
              "0  Technopolis plans to develop in stages an area...                                                                               \n",
              "1  The international electronic industry company ...                                                                               \n",
              "2  With the new production plant the company woul...                                                                               \n",
              "3  According to the company 's updated strategy f...                                                                               \n",
              "4  FINANCING OF ASPOCOMP 'S GROWTH Aspocomp is ag...                                                                               "
            ],
            "text/html": [
              "\n",
              "  <div id=\"df-81c440e3-a663-466b-bb69-858355bc96aa\">\n",
              "    <div class=\"colab-df-container\">\n",
              "      <div>\n",
              "<style scoped>\n",
              "    .dataframe tbody tr th:only-of-type {\n",
              "        vertical-align: middle;\n",
              "    }\n",
              "\n",
              "    .dataframe tbody tr th {\n",
              "        vertical-align: top;\n",
              "    }\n",
              "\n",
              "    .dataframe thead th {\n",
              "        text-align: right;\n",
              "    }\n",
              "</style>\n",
              "<table border=\"1\" class=\"dataframe\">\n",
              "  <thead>\n",
              "    <tr style=\"text-align: right;\">\n",
              "      <th></th>\n",
              "      <th>neutral</th>\n",
              "      <th>According to Gran , the company has no plans to move all production to Russia , although that is where the company is growing .</th>\n",
              "    </tr>\n",
              "  </thead>\n",
              "  <tbody>\n",
              "    <tr>\n",
              "      <th>0</th>\n",
              "      <td>neutral</td>\n",
              "      <td>Technopolis plans to develop in stages an area...</td>\n",
              "    </tr>\n",
              "    <tr>\n",
              "      <th>1</th>\n",
              "      <td>negative</td>\n",
              "      <td>The international electronic industry company ...</td>\n",
              "    </tr>\n",
              "    <tr>\n",
              "      <th>2</th>\n",
              "      <td>positive</td>\n",
              "      <td>With the new production plant the company woul...</td>\n",
              "    </tr>\n",
              "    <tr>\n",
              "      <th>3</th>\n",
              "      <td>positive</td>\n",
              "      <td>According to the company 's updated strategy f...</td>\n",
              "    </tr>\n",
              "    <tr>\n",
              "      <th>4</th>\n",
              "      <td>positive</td>\n",
              "      <td>FINANCING OF ASPOCOMP 'S GROWTH Aspocomp is ag...</td>\n",
              "    </tr>\n",
              "  </tbody>\n",
              "</table>\n",
              "</div>\n",
              "      <button class=\"colab-df-convert\" onclick=\"convertToInteractive('df-81c440e3-a663-466b-bb69-858355bc96aa')\"\n",
              "              title=\"Convert this dataframe to an interactive table.\"\n",
              "              style=\"display:none;\">\n",
              "        \n",
              "  <svg xmlns=\"http://www.w3.org/2000/svg\" height=\"24px\"viewBox=\"0 0 24 24\"\n",
              "       width=\"24px\">\n",
              "    <path d=\"M0 0h24v24H0V0z\" fill=\"none\"/>\n",
              "    <path d=\"M18.56 5.44l.94 2.06.94-2.06 2.06-.94-2.06-.94-.94-2.06-.94 2.06-2.06.94zm-11 1L8.5 8.5l.94-2.06 2.06-.94-2.06-.94L8.5 2.5l-.94 2.06-2.06.94zm10 10l.94 2.06.94-2.06 2.06-.94-2.06-.94-.94-2.06-.94 2.06-2.06.94z\"/><path d=\"M17.41 7.96l-1.37-1.37c-.4-.4-.92-.59-1.43-.59-.52 0-1.04.2-1.43.59L10.3 9.45l-7.72 7.72c-.78.78-.78 2.05 0 2.83L4 21.41c.39.39.9.59 1.41.59.51 0 1.02-.2 1.41-.59l7.78-7.78 2.81-2.81c.8-.78.8-2.07 0-2.86zM5.41 20L4 18.59l7.72-7.72 1.47 1.35L5.41 20z\"/>\n",
              "  </svg>\n",
              "      </button>\n",
              "      \n",
              "  <style>\n",
              "    .colab-df-container {\n",
              "      display:flex;\n",
              "      flex-wrap:wrap;\n",
              "      gap: 12px;\n",
              "    }\n",
              "\n",
              "    .colab-df-convert {\n",
              "      background-color: #E8F0FE;\n",
              "      border: none;\n",
              "      border-radius: 50%;\n",
              "      cursor: pointer;\n",
              "      display: none;\n",
              "      fill: #1967D2;\n",
              "      height: 32px;\n",
              "      padding: 0 0 0 0;\n",
              "      width: 32px;\n",
              "    }\n",
              "\n",
              "    .colab-df-convert:hover {\n",
              "      background-color: #E2EBFA;\n",
              "      box-shadow: 0px 1px 2px rgba(60, 64, 67, 0.3), 0px 1px 3px 1px rgba(60, 64, 67, 0.15);\n",
              "      fill: #174EA6;\n",
              "    }\n",
              "\n",
              "    [theme=dark] .colab-df-convert {\n",
              "      background-color: #3B4455;\n",
              "      fill: #D2E3FC;\n",
              "    }\n",
              "\n",
              "    [theme=dark] .colab-df-convert:hover {\n",
              "      background-color: #434B5C;\n",
              "      box-shadow: 0px 1px 3px 1px rgba(0, 0, 0, 0.15);\n",
              "      filter: drop-shadow(0px 1px 2px rgba(0, 0, 0, 0.3));\n",
              "      fill: #FFFFFF;\n",
              "    }\n",
              "  </style>\n",
              "\n",
              "      <script>\n",
              "        const buttonEl =\n",
              "          document.querySelector('#df-81c440e3-a663-466b-bb69-858355bc96aa button.colab-df-convert');\n",
              "        buttonEl.style.display =\n",
              "          google.colab.kernel.accessAllowed ? 'block' : 'none';\n",
              "\n",
              "        async function convertToInteractive(key) {\n",
              "          const element = document.querySelector('#df-81c440e3-a663-466b-bb69-858355bc96aa');\n",
              "          const dataTable =\n",
              "            await google.colab.kernel.invokeFunction('convertToInteractive',\n",
              "                                                     [key], {});\n",
              "          if (!dataTable) return;\n",
              "\n",
              "          const docLinkHtml = 'Like what you see? Visit the ' +\n",
              "            '<a target=\"_blank\" href=https://colab.research.google.com/notebooks/data_table.ipynb>data table notebook</a>'\n",
              "            + ' to learn more about interactive tables.';\n",
              "          element.innerHTML = '';\n",
              "          dataTable['output_type'] = 'display_data';\n",
              "          await google.colab.output.renderOutput(dataTable, element);\n",
              "          const docLink = document.createElement('div');\n",
              "          docLink.innerHTML = docLinkHtml;\n",
              "          element.appendChild(docLink);\n",
              "        }\n",
              "      </script>\n",
              "    </div>\n",
              "  </div>\n",
              "  "
            ]
          },
          "metadata": {},
          "execution_count": 4
        }
      ],
      "source": [
        "data.head()"
      ]
    },
    {
      "cell_type": "markdown",
      "id": "47baa43f",
      "metadata": {
        "id": "47baa43f"
      },
      "source": [
        "Rename columns"
      ]
    },
    {
      "cell_type": "code",
      "execution_count": 5,
      "id": "f16a6cfe",
      "metadata": {
        "id": "f16a6cfe"
      },
      "outputs": [],
      "source": [
        "data = data.rename(columns={\"neutral\":\"Sentiment\", data.columns[1]:\"text\"})"
      ]
    },
    {
      "cell_type": "code",
      "execution_count": 6,
      "id": "52deae19",
      "metadata": {
        "colab": {
          "base_uri": "https://localhost:8080/",
          "height": 204
        },
        "id": "52deae19",
        "outputId": "4c7327ab-9e92-4c80-9d1a-2f2189cb2b23"
      },
      "outputs": [
        {
          "output_type": "execute_result",
          "data": {
            "text/plain": [
              "  Sentiment                                               text\n",
              "0   neutral  Technopolis plans to develop in stages an area...\n",
              "1  negative  The international electronic industry company ...\n",
              "2  positive  With the new production plant the company woul...\n",
              "3  positive  According to the company 's updated strategy f...\n",
              "4  positive  FINANCING OF ASPOCOMP 'S GROWTH Aspocomp is ag..."
            ],
            "text/html": [
              "\n",
              "  <div id=\"df-2e735d28-846a-4a3a-8bda-af0be3aee8f9\">\n",
              "    <div class=\"colab-df-container\">\n",
              "      <div>\n",
              "<style scoped>\n",
              "    .dataframe tbody tr th:only-of-type {\n",
              "        vertical-align: middle;\n",
              "    }\n",
              "\n",
              "    .dataframe tbody tr th {\n",
              "        vertical-align: top;\n",
              "    }\n",
              "\n",
              "    .dataframe thead th {\n",
              "        text-align: right;\n",
              "    }\n",
              "</style>\n",
              "<table border=\"1\" class=\"dataframe\">\n",
              "  <thead>\n",
              "    <tr style=\"text-align: right;\">\n",
              "      <th></th>\n",
              "      <th>Sentiment</th>\n",
              "      <th>text</th>\n",
              "    </tr>\n",
              "  </thead>\n",
              "  <tbody>\n",
              "    <tr>\n",
              "      <th>0</th>\n",
              "      <td>neutral</td>\n",
              "      <td>Technopolis plans to develop in stages an area...</td>\n",
              "    </tr>\n",
              "    <tr>\n",
              "      <th>1</th>\n",
              "      <td>negative</td>\n",
              "      <td>The international electronic industry company ...</td>\n",
              "    </tr>\n",
              "    <tr>\n",
              "      <th>2</th>\n",
              "      <td>positive</td>\n",
              "      <td>With the new production plant the company woul...</td>\n",
              "    </tr>\n",
              "    <tr>\n",
              "      <th>3</th>\n",
              "      <td>positive</td>\n",
              "      <td>According to the company 's updated strategy f...</td>\n",
              "    </tr>\n",
              "    <tr>\n",
              "      <th>4</th>\n",
              "      <td>positive</td>\n",
              "      <td>FINANCING OF ASPOCOMP 'S GROWTH Aspocomp is ag...</td>\n",
              "    </tr>\n",
              "  </tbody>\n",
              "</table>\n",
              "</div>\n",
              "      <button class=\"colab-df-convert\" onclick=\"convertToInteractive('df-2e735d28-846a-4a3a-8bda-af0be3aee8f9')\"\n",
              "              title=\"Convert this dataframe to an interactive table.\"\n",
              "              style=\"display:none;\">\n",
              "        \n",
              "  <svg xmlns=\"http://www.w3.org/2000/svg\" height=\"24px\"viewBox=\"0 0 24 24\"\n",
              "       width=\"24px\">\n",
              "    <path d=\"M0 0h24v24H0V0z\" fill=\"none\"/>\n",
              "    <path d=\"M18.56 5.44l.94 2.06.94-2.06 2.06-.94-2.06-.94-.94-2.06-.94 2.06-2.06.94zm-11 1L8.5 8.5l.94-2.06 2.06-.94-2.06-.94L8.5 2.5l-.94 2.06-2.06.94zm10 10l.94 2.06.94-2.06 2.06-.94-2.06-.94-.94-2.06-.94 2.06-2.06.94z\"/><path d=\"M17.41 7.96l-1.37-1.37c-.4-.4-.92-.59-1.43-.59-.52 0-1.04.2-1.43.59L10.3 9.45l-7.72 7.72c-.78.78-.78 2.05 0 2.83L4 21.41c.39.39.9.59 1.41.59.51 0 1.02-.2 1.41-.59l7.78-7.78 2.81-2.81c.8-.78.8-2.07 0-2.86zM5.41 20L4 18.59l7.72-7.72 1.47 1.35L5.41 20z\"/>\n",
              "  </svg>\n",
              "      </button>\n",
              "      \n",
              "  <style>\n",
              "    .colab-df-container {\n",
              "      display:flex;\n",
              "      flex-wrap:wrap;\n",
              "      gap: 12px;\n",
              "    }\n",
              "\n",
              "    .colab-df-convert {\n",
              "      background-color: #E8F0FE;\n",
              "      border: none;\n",
              "      border-radius: 50%;\n",
              "      cursor: pointer;\n",
              "      display: none;\n",
              "      fill: #1967D2;\n",
              "      height: 32px;\n",
              "      padding: 0 0 0 0;\n",
              "      width: 32px;\n",
              "    }\n",
              "\n",
              "    .colab-df-convert:hover {\n",
              "      background-color: #E2EBFA;\n",
              "      box-shadow: 0px 1px 2px rgba(60, 64, 67, 0.3), 0px 1px 3px 1px rgba(60, 64, 67, 0.15);\n",
              "      fill: #174EA6;\n",
              "    }\n",
              "\n",
              "    [theme=dark] .colab-df-convert {\n",
              "      background-color: #3B4455;\n",
              "      fill: #D2E3FC;\n",
              "    }\n",
              "\n",
              "    [theme=dark] .colab-df-convert:hover {\n",
              "      background-color: #434B5C;\n",
              "      box-shadow: 0px 1px 3px 1px rgba(0, 0, 0, 0.15);\n",
              "      filter: drop-shadow(0px 1px 2px rgba(0, 0, 0, 0.3));\n",
              "      fill: #FFFFFF;\n",
              "    }\n",
              "  </style>\n",
              "\n",
              "      <script>\n",
              "        const buttonEl =\n",
              "          document.querySelector('#df-2e735d28-846a-4a3a-8bda-af0be3aee8f9 button.colab-df-convert');\n",
              "        buttonEl.style.display =\n",
              "          google.colab.kernel.accessAllowed ? 'block' : 'none';\n",
              "\n",
              "        async function convertToInteractive(key) {\n",
              "          const element = document.querySelector('#df-2e735d28-846a-4a3a-8bda-af0be3aee8f9');\n",
              "          const dataTable =\n",
              "            await google.colab.kernel.invokeFunction('convertToInteractive',\n",
              "                                                     [key], {});\n",
              "          if (!dataTable) return;\n",
              "\n",
              "          const docLinkHtml = 'Like what you see? Visit the ' +\n",
              "            '<a target=\"_blank\" href=https://colab.research.google.com/notebooks/data_table.ipynb>data table notebook</a>'\n",
              "            + ' to learn more about interactive tables.';\n",
              "          element.innerHTML = '';\n",
              "          dataTable['output_type'] = 'display_data';\n",
              "          await google.colab.output.renderOutput(dataTable, element);\n",
              "          const docLink = document.createElement('div');\n",
              "          docLink.innerHTML = docLinkHtml;\n",
              "          element.appendChild(docLink);\n",
              "        }\n",
              "      </script>\n",
              "    </div>\n",
              "  </div>\n",
              "  "
            ]
          },
          "metadata": {},
          "execution_count": 6
        }
      ],
      "source": [
        "data.head()"
      ]
    },
    {
      "cell_type": "markdown",
      "id": "55cf34cd",
      "metadata": {
        "id": "55cf34cd"
      },
      "source": [
        "Below, we describe a function to lowercase text, remove punctuation and symbols from words, and other useless chars/words."
      ]
    },
    {
      "cell_type": "code",
      "execution_count": 7,
      "id": "7088b55e",
      "metadata": {
        "id": "7088b55e"
      },
      "outputs": [],
      "source": [
        "from bs4 import BeautifulSoup\n",
        "import re\n",
        "def text_cleaning(text):\n",
        "    text = BeautifulSoup(text, \"lxml\").text\n",
        "    text = re.sub(r'\\|\\|\\|', r' ', text) \n",
        "    text = re.sub(r'http\\S+', r'<URL>', text)\n",
        "    \n",
        "    text = text.replace(\"(<br/>)\", \"\")\n",
        "    text = text.replace('(<a).*(>).*(</a>)', '')\n",
        "    text = text.replace('(&amp)', '')\n",
        "    text = text.replace('(&gt)', '')\n",
        "    text = text.replace('(&lt)', '')\n",
        "    text = text.replace('(\\xa0)', ' ')\n",
        "    \n",
        "    text = text.lower()\n",
        "    return text\n",
        "data['text'] = data['text'].apply(text_cleaning)"
      ]
    },
    {
      "cell_type": "markdown",
      "id": "8da9c3e8",
      "metadata": {
        "id": "8da9c3e8"
      },
      "source": [
        "Remove duplicates."
      ]
    },
    {
      "cell_type": "code",
      "execution_count": 8,
      "id": "22ebfffd",
      "metadata": {
        "id": "22ebfffd"
      },
      "outputs": [],
      "source": [
        "data.drop_duplicates(subset=['text'],keep='first',inplace=True)"
      ]
    },
    {
      "cell_type": "markdown",
      "id": "2c9ca90c",
      "metadata": {
        "id": "2c9ca90c"
      },
      "source": [
        "Added 3 columns:\n",
        "1) text sentiment polarity by TextBlob library\n",
        "\n",
        "2) Lenght of each news text\n",
        "\n",
        "3) Count of words in each news"
      ]
    },
    {
      "cell_type": "code",
      "execution_count": 9,
      "id": "9f75163b",
      "metadata": {
        "id": "9f75163b"
      },
      "outputs": [],
      "source": [
        "data['polarity'] = data['text'].map(lambda text: TextBlob(text).sentiment.polarity)\n",
        "data['news_len'] = data['text'].astype(str).apply(len)\n",
        "data['word_count'] = data['text'].apply(lambda x: len(str(x).split()))"
      ]
    },
    {
      "cell_type": "code",
      "execution_count": 10,
      "id": "bb27c1b8",
      "metadata": {
        "colab": {
          "base_uri": "https://localhost:8080/",
          "height": 204
        },
        "id": "bb27c1b8",
        "outputId": "9530aa78-086d-421f-f7ab-654b4837280b"
      },
      "outputs": [
        {
          "output_type": "execute_result",
          "data": {
            "text/plain": [
              "  Sentiment                                               text  polarity  \\\n",
              "0   neutral  technopolis plans to develop in stages an area...  0.083333   \n",
              "1  negative  the international electronic industry company ...  0.000000   \n",
              "2  positive  with the new production plant the company woul... -0.064802   \n",
              "3  positive  according to the company 's updated strategy f...  0.000000   \n",
              "4  positive  financing of aspocomp 's growth aspocomp is ag...  0.500000   \n",
              "\n",
              "   news_len  word_count  \n",
              "0       190          31  \n",
              "1       228          36  \n",
              "2       206          33  \n",
              "3       203          41  \n",
              "4       178          25  "
            ],
            "text/html": [
              "\n",
              "  <div id=\"df-cdce156b-69b6-4654-8c68-efb028103333\">\n",
              "    <div class=\"colab-df-container\">\n",
              "      <div>\n",
              "<style scoped>\n",
              "    .dataframe tbody tr th:only-of-type {\n",
              "        vertical-align: middle;\n",
              "    }\n",
              "\n",
              "    .dataframe tbody tr th {\n",
              "        vertical-align: top;\n",
              "    }\n",
              "\n",
              "    .dataframe thead th {\n",
              "        text-align: right;\n",
              "    }\n",
              "</style>\n",
              "<table border=\"1\" class=\"dataframe\">\n",
              "  <thead>\n",
              "    <tr style=\"text-align: right;\">\n",
              "      <th></th>\n",
              "      <th>Sentiment</th>\n",
              "      <th>text</th>\n",
              "      <th>polarity</th>\n",
              "      <th>news_len</th>\n",
              "      <th>word_count</th>\n",
              "    </tr>\n",
              "  </thead>\n",
              "  <tbody>\n",
              "    <tr>\n",
              "      <th>0</th>\n",
              "      <td>neutral</td>\n",
              "      <td>technopolis plans to develop in stages an area...</td>\n",
              "      <td>0.083333</td>\n",
              "      <td>190</td>\n",
              "      <td>31</td>\n",
              "    </tr>\n",
              "    <tr>\n",
              "      <th>1</th>\n",
              "      <td>negative</td>\n",
              "      <td>the international electronic industry company ...</td>\n",
              "      <td>0.000000</td>\n",
              "      <td>228</td>\n",
              "      <td>36</td>\n",
              "    </tr>\n",
              "    <tr>\n",
              "      <th>2</th>\n",
              "      <td>positive</td>\n",
              "      <td>with the new production plant the company woul...</td>\n",
              "      <td>-0.064802</td>\n",
              "      <td>206</td>\n",
              "      <td>33</td>\n",
              "    </tr>\n",
              "    <tr>\n",
              "      <th>3</th>\n",
              "      <td>positive</td>\n",
              "      <td>according to the company 's updated strategy f...</td>\n",
              "      <td>0.000000</td>\n",
              "      <td>203</td>\n",
              "      <td>41</td>\n",
              "    </tr>\n",
              "    <tr>\n",
              "      <th>4</th>\n",
              "      <td>positive</td>\n",
              "      <td>financing of aspocomp 's growth aspocomp is ag...</td>\n",
              "      <td>0.500000</td>\n",
              "      <td>178</td>\n",
              "      <td>25</td>\n",
              "    </tr>\n",
              "  </tbody>\n",
              "</table>\n",
              "</div>\n",
              "      <button class=\"colab-df-convert\" onclick=\"convertToInteractive('df-cdce156b-69b6-4654-8c68-efb028103333')\"\n",
              "              title=\"Convert this dataframe to an interactive table.\"\n",
              "              style=\"display:none;\">\n",
              "        \n",
              "  <svg xmlns=\"http://www.w3.org/2000/svg\" height=\"24px\"viewBox=\"0 0 24 24\"\n",
              "       width=\"24px\">\n",
              "    <path d=\"M0 0h24v24H0V0z\" fill=\"none\"/>\n",
              "    <path d=\"M18.56 5.44l.94 2.06.94-2.06 2.06-.94-2.06-.94-.94-2.06-.94 2.06-2.06.94zm-11 1L8.5 8.5l.94-2.06 2.06-.94-2.06-.94L8.5 2.5l-.94 2.06-2.06.94zm10 10l.94 2.06.94-2.06 2.06-.94-2.06-.94-.94-2.06-.94 2.06-2.06.94z\"/><path d=\"M17.41 7.96l-1.37-1.37c-.4-.4-.92-.59-1.43-.59-.52 0-1.04.2-1.43.59L10.3 9.45l-7.72 7.72c-.78.78-.78 2.05 0 2.83L4 21.41c.39.39.9.59 1.41.59.51 0 1.02-.2 1.41-.59l7.78-7.78 2.81-2.81c.8-.78.8-2.07 0-2.86zM5.41 20L4 18.59l7.72-7.72 1.47 1.35L5.41 20z\"/>\n",
              "  </svg>\n",
              "      </button>\n",
              "      \n",
              "  <style>\n",
              "    .colab-df-container {\n",
              "      display:flex;\n",
              "      flex-wrap:wrap;\n",
              "      gap: 12px;\n",
              "    }\n",
              "\n",
              "    .colab-df-convert {\n",
              "      background-color: #E8F0FE;\n",
              "      border: none;\n",
              "      border-radius: 50%;\n",
              "      cursor: pointer;\n",
              "      display: none;\n",
              "      fill: #1967D2;\n",
              "      height: 32px;\n",
              "      padding: 0 0 0 0;\n",
              "      width: 32px;\n",
              "    }\n",
              "\n",
              "    .colab-df-convert:hover {\n",
              "      background-color: #E2EBFA;\n",
              "      box-shadow: 0px 1px 2px rgba(60, 64, 67, 0.3), 0px 1px 3px 1px rgba(60, 64, 67, 0.15);\n",
              "      fill: #174EA6;\n",
              "    }\n",
              "\n",
              "    [theme=dark] .colab-df-convert {\n",
              "      background-color: #3B4455;\n",
              "      fill: #D2E3FC;\n",
              "    }\n",
              "\n",
              "    [theme=dark] .colab-df-convert:hover {\n",
              "      background-color: #434B5C;\n",
              "      box-shadow: 0px 1px 3px 1px rgba(0, 0, 0, 0.15);\n",
              "      filter: drop-shadow(0px 1px 2px rgba(0, 0, 0, 0.3));\n",
              "      fill: #FFFFFF;\n",
              "    }\n",
              "  </style>\n",
              "\n",
              "      <script>\n",
              "        const buttonEl =\n",
              "          document.querySelector('#df-cdce156b-69b6-4654-8c68-efb028103333 button.colab-df-convert');\n",
              "        buttonEl.style.display =\n",
              "          google.colab.kernel.accessAllowed ? 'block' : 'none';\n",
              "\n",
              "        async function convertToInteractive(key) {\n",
              "          const element = document.querySelector('#df-cdce156b-69b6-4654-8c68-efb028103333');\n",
              "          const dataTable =\n",
              "            await google.colab.kernel.invokeFunction('convertToInteractive',\n",
              "                                                     [key], {});\n",
              "          if (!dataTable) return;\n",
              "\n",
              "          const docLinkHtml = 'Like what you see? Visit the ' +\n",
              "            '<a target=\"_blank\" href=https://colab.research.google.com/notebooks/data_table.ipynb>data table notebook</a>'\n",
              "            + ' to learn more about interactive tables.';\n",
              "          element.innerHTML = '';\n",
              "          dataTable['output_type'] = 'display_data';\n",
              "          await google.colab.output.renderOutput(dataTable, element);\n",
              "          const docLink = document.createElement('div');\n",
              "          docLink.innerHTML = docLinkHtml;\n",
              "          element.appendChild(docLink);\n",
              "        }\n",
              "      </script>\n",
              "    </div>\n",
              "  </div>\n",
              "  "
            ]
          },
          "metadata": {},
          "execution_count": 10
        }
      ],
      "source": [
        "data.head()"
      ]
    },
    {
      "cell_type": "markdown",
      "id": "0fdd551f",
      "metadata": {
        "id": "0fdd551f"
      },
      "source": [
        "Label Encoded data.Sentiment column into numeric type "
      ]
    },
    {
      "cell_type": "code",
      "execution_count": 11,
      "id": "12daf092",
      "metadata": {
        "id": "12daf092"
      },
      "outputs": [],
      "source": [
        "le = preprocessing.LabelEncoder()\n",
        "arr = le.fit_transform(data.Sentiment)"
      ]
    },
    {
      "cell_type": "code",
      "execution_count": 12,
      "id": "a668bb0a",
      "metadata": {
        "id": "a668bb0a"
      },
      "outputs": [],
      "source": [
        "data[\"Sentiment\"] = arr"
      ]
    },
    {
      "cell_type": "code",
      "execution_count": 13,
      "id": "a3ffc12e",
      "metadata": {
        "colab": {
          "base_uri": "https://localhost:8080/",
          "height": 204
        },
        "id": "a3ffc12e",
        "outputId": "a981bbd7-3cc6-4d41-8aaa-fad2be151efd"
      },
      "outputs": [
        {
          "output_type": "execute_result",
          "data": {
            "text/plain": [
              "   Sentiment                                               text  polarity  \\\n",
              "0          1  technopolis plans to develop in stages an area...  0.083333   \n",
              "1          0  the international electronic industry company ...  0.000000   \n",
              "2          2  with the new production plant the company woul... -0.064802   \n",
              "3          2  according to the company 's updated strategy f...  0.000000   \n",
              "4          2  financing of aspocomp 's growth aspocomp is ag...  0.500000   \n",
              "\n",
              "   news_len  word_count  \n",
              "0       190          31  \n",
              "1       228          36  \n",
              "2       206          33  \n",
              "3       203          41  \n",
              "4       178          25  "
            ],
            "text/html": [
              "\n",
              "  <div id=\"df-ea629891-70cc-40bd-a288-3a0984ea65eb\">\n",
              "    <div class=\"colab-df-container\">\n",
              "      <div>\n",
              "<style scoped>\n",
              "    .dataframe tbody tr th:only-of-type {\n",
              "        vertical-align: middle;\n",
              "    }\n",
              "\n",
              "    .dataframe tbody tr th {\n",
              "        vertical-align: top;\n",
              "    }\n",
              "\n",
              "    .dataframe thead th {\n",
              "        text-align: right;\n",
              "    }\n",
              "</style>\n",
              "<table border=\"1\" class=\"dataframe\">\n",
              "  <thead>\n",
              "    <tr style=\"text-align: right;\">\n",
              "      <th></th>\n",
              "      <th>Sentiment</th>\n",
              "      <th>text</th>\n",
              "      <th>polarity</th>\n",
              "      <th>news_len</th>\n",
              "      <th>word_count</th>\n",
              "    </tr>\n",
              "  </thead>\n",
              "  <tbody>\n",
              "    <tr>\n",
              "      <th>0</th>\n",
              "      <td>1</td>\n",
              "      <td>technopolis plans to develop in stages an area...</td>\n",
              "      <td>0.083333</td>\n",
              "      <td>190</td>\n",
              "      <td>31</td>\n",
              "    </tr>\n",
              "    <tr>\n",
              "      <th>1</th>\n",
              "      <td>0</td>\n",
              "      <td>the international electronic industry company ...</td>\n",
              "      <td>0.000000</td>\n",
              "      <td>228</td>\n",
              "      <td>36</td>\n",
              "    </tr>\n",
              "    <tr>\n",
              "      <th>2</th>\n",
              "      <td>2</td>\n",
              "      <td>with the new production plant the company woul...</td>\n",
              "      <td>-0.064802</td>\n",
              "      <td>206</td>\n",
              "      <td>33</td>\n",
              "    </tr>\n",
              "    <tr>\n",
              "      <th>3</th>\n",
              "      <td>2</td>\n",
              "      <td>according to the company 's updated strategy f...</td>\n",
              "      <td>0.000000</td>\n",
              "      <td>203</td>\n",
              "      <td>41</td>\n",
              "    </tr>\n",
              "    <tr>\n",
              "      <th>4</th>\n",
              "      <td>2</td>\n",
              "      <td>financing of aspocomp 's growth aspocomp is ag...</td>\n",
              "      <td>0.500000</td>\n",
              "      <td>178</td>\n",
              "      <td>25</td>\n",
              "    </tr>\n",
              "  </tbody>\n",
              "</table>\n",
              "</div>\n",
              "      <button class=\"colab-df-convert\" onclick=\"convertToInteractive('df-ea629891-70cc-40bd-a288-3a0984ea65eb')\"\n",
              "              title=\"Convert this dataframe to an interactive table.\"\n",
              "              style=\"display:none;\">\n",
              "        \n",
              "  <svg xmlns=\"http://www.w3.org/2000/svg\" height=\"24px\"viewBox=\"0 0 24 24\"\n",
              "       width=\"24px\">\n",
              "    <path d=\"M0 0h24v24H0V0z\" fill=\"none\"/>\n",
              "    <path d=\"M18.56 5.44l.94 2.06.94-2.06 2.06-.94-2.06-.94-.94-2.06-.94 2.06-2.06.94zm-11 1L8.5 8.5l.94-2.06 2.06-.94-2.06-.94L8.5 2.5l-.94 2.06-2.06.94zm10 10l.94 2.06.94-2.06 2.06-.94-2.06-.94-.94-2.06-.94 2.06-2.06.94z\"/><path d=\"M17.41 7.96l-1.37-1.37c-.4-.4-.92-.59-1.43-.59-.52 0-1.04.2-1.43.59L10.3 9.45l-7.72 7.72c-.78.78-.78 2.05 0 2.83L4 21.41c.39.39.9.59 1.41.59.51 0 1.02-.2 1.41-.59l7.78-7.78 2.81-2.81c.8-.78.8-2.07 0-2.86zM5.41 20L4 18.59l7.72-7.72 1.47 1.35L5.41 20z\"/>\n",
              "  </svg>\n",
              "      </button>\n",
              "      \n",
              "  <style>\n",
              "    .colab-df-container {\n",
              "      display:flex;\n",
              "      flex-wrap:wrap;\n",
              "      gap: 12px;\n",
              "    }\n",
              "\n",
              "    .colab-df-convert {\n",
              "      background-color: #E8F0FE;\n",
              "      border: none;\n",
              "      border-radius: 50%;\n",
              "      cursor: pointer;\n",
              "      display: none;\n",
              "      fill: #1967D2;\n",
              "      height: 32px;\n",
              "      padding: 0 0 0 0;\n",
              "      width: 32px;\n",
              "    }\n",
              "\n",
              "    .colab-df-convert:hover {\n",
              "      background-color: #E2EBFA;\n",
              "      box-shadow: 0px 1px 2px rgba(60, 64, 67, 0.3), 0px 1px 3px 1px rgba(60, 64, 67, 0.15);\n",
              "      fill: #174EA6;\n",
              "    }\n",
              "\n",
              "    [theme=dark] .colab-df-convert {\n",
              "      background-color: #3B4455;\n",
              "      fill: #D2E3FC;\n",
              "    }\n",
              "\n",
              "    [theme=dark] .colab-df-convert:hover {\n",
              "      background-color: #434B5C;\n",
              "      box-shadow: 0px 1px 3px 1px rgba(0, 0, 0, 0.15);\n",
              "      filter: drop-shadow(0px 1px 2px rgba(0, 0, 0, 0.3));\n",
              "      fill: #FFFFFF;\n",
              "    }\n",
              "  </style>\n",
              "\n",
              "      <script>\n",
              "        const buttonEl =\n",
              "          document.querySelector('#df-ea629891-70cc-40bd-a288-3a0984ea65eb button.colab-df-convert');\n",
              "        buttonEl.style.display =\n",
              "          google.colab.kernel.accessAllowed ? 'block' : 'none';\n",
              "\n",
              "        async function convertToInteractive(key) {\n",
              "          const element = document.querySelector('#df-ea629891-70cc-40bd-a288-3a0984ea65eb');\n",
              "          const dataTable =\n",
              "            await google.colab.kernel.invokeFunction('convertToInteractive',\n",
              "                                                     [key], {});\n",
              "          if (!dataTable) return;\n",
              "\n",
              "          const docLinkHtml = 'Like what you see? Visit the ' +\n",
              "            '<a target=\"_blank\" href=https://colab.research.google.com/notebooks/data_table.ipynb>data table notebook</a>'\n",
              "            + ' to learn more about interactive tables.';\n",
              "          element.innerHTML = '';\n",
              "          dataTable['output_type'] = 'display_data';\n",
              "          await google.colab.output.renderOutput(dataTable, element);\n",
              "          const docLink = document.createElement('div');\n",
              "          docLink.innerHTML = docLinkHtml;\n",
              "          element.appendChild(docLink);\n",
              "        }\n",
              "      </script>\n",
              "    </div>\n",
              "  </div>\n",
              "  "
            ]
          },
          "metadata": {},
          "execution_count": 13
        }
      ],
      "source": [
        "data.head()"
      ]
    },
    {
      "cell_type": "markdown",
      "id": "e2fca913",
      "metadata": {
        "id": "e2fca913"
      },
      "source": [
        "Converted text into vectors by using TFidfVectorizer model and now data is ready."
      ]
    },
    {
      "cell_type": "code",
      "execution_count": 14,
      "id": "79395451",
      "metadata": {
        "id": "79395451"
      },
      "outputs": [],
      "source": [
        "from sklearn.feature_extraction.text import TfidfVectorizer\n",
        "v = TfidfVectorizer()\n",
        "x = v.fit_transform(data['text'])"
      ]
    },
    {
      "cell_type": "markdown",
      "source": [
        "##Model Implementation "
      ],
      "metadata": {
        "id": "XFey_KArSP1K"
      },
      "id": "XFey_KArSP1K"
    },
    {
      "cell_type": "code",
      "source": [
        "import nltk\n",
        "nltk.download('punkt')"
      ],
      "metadata": {
        "colab": {
          "base_uri": "https://localhost:8080/"
        },
        "id": "vURC5UWic0F9",
        "outputId": "a373acf5-b00f-467e-989f-c58f20ea3068"
      },
      "id": "vURC5UWic0F9",
      "execution_count": 15,
      "outputs": [
        {
          "output_type": "stream",
          "name": "stderr",
          "text": [
            "[nltk_data] Downloading package punkt to /root/nltk_data...\n",
            "[nltk_data]   Package punkt is already up-to-date!\n"
          ]
        },
        {
          "output_type": "execute_result",
          "data": {
            "text/plain": [
              "True"
            ]
          },
          "metadata": {},
          "execution_count": 15
        }
      ]
    },
    {
      "cell_type": "code",
      "source": [
        "from sklearn import utils\n",
        "import keras\n",
        "from gensim.models import Doc2Vec\n",
        "from sklearn.model_selection import train_test_split\n",
        "from gensim.models.doc2vec import TaggedDocument\n",
        "from nltk.corpus import stopwords\n",
        "from keras.preprocessing.text import Tokenizer\n",
        "from keras.utils import pad_sequences\n",
        "from tqdm import tqdm"
      ],
      "metadata": {
        "id": "Nhm5AZJPcIFV"
      },
      "id": "Nhm5AZJPcIFV",
      "execution_count": 32,
      "outputs": []
    },
    {
      "cell_type": "code",
      "source": [
        "data.shape"
      ],
      "metadata": {
        "colab": {
          "base_uri": "https://localhost:8080/"
        },
        "id": "BAf1_mN_bsrq",
        "outputId": "ecd2b7fb-d44b-41e2-c8a5-2a22b190fcde"
      },
      "id": "BAf1_mN_bsrq",
      "execution_count": 28,
      "outputs": [
        {
          "output_type": "execute_result",
          "data": {
            "text/plain": [
              "(4837, 5)"
            ]
          },
          "metadata": {},
          "execution_count": 28
        }
      ]
    },
    {
      "cell_type": "code",
      "source": [
        "data.index = range(4837)\n",
        "data['text'].apply(lambda x: len(x.split(' '))).sum()"
      ],
      "metadata": {
        "colab": {
          "base_uri": "https://localhost:8080/"
        },
        "id": "SPZfgy-obeF5",
        "outputId": "9513ea3a-31c6-45f2-fb11-ae7521f1c4bc"
      },
      "id": "SPZfgy-obeF5",
      "execution_count": 20,
      "outputs": [
        {
          "output_type": "execute_result",
          "data": {
            "text/plain": [
              "111725"
            ]
          },
          "metadata": {},
          "execution_count": 20
        }
      ]
    },
    {
      "cell_type": "code",
      "source": [
        "data['text'] = data['text'].apply(text_cleaning)\n",
        "train, test = train_test_split(data, test_size=0.000001 , random_state=42)\n",
        "\n",
        "def tokenize_text(text):\n",
        "    tokens = []\n",
        "    for sent in nltk.sent_tokenize(text):\n",
        "        for word in nltk.word_tokenize(sent):\n",
        "            if len(word) <= 0:\n",
        "                continue\n",
        "            tokens.append(word.lower())\n",
        "    return tokens"
      ],
      "metadata": {
        "id": "_rfOu7H3bvlJ"
      },
      "id": "_rfOu7H3bvlJ",
      "execution_count": 21,
      "outputs": []
    },
    {
      "cell_type": "code",
      "source": [
        "train_tagged = train.apply(lambda r: TaggedDocument(words=tokenize_text(r['text']), tags=[r.Sentiment]), axis=1)\n",
        "test_tagged = test.apply(lambda r: TaggedDocument(words=tokenize_text(r['text']), tags=[r.Sentiment]), axis=1)"
      ],
      "metadata": {
        "id": "zK4CaYaYcfc7"
      },
      "id": "zK4CaYaYcfc7",
      "execution_count": 22,
      "outputs": []
    },
    {
      "cell_type": "code",
      "source": [
        "max_features = 500000\n",
        "MAX_SEQ_LENGTH = 50\n",
        "\n",
        "#tokenizer = Tokenizer(num_words=max_fatures, split=' ')\n",
        "tokenizer = Tokenizer(num_words=max_features, split=' ', filters='!\"#$%&()*+,-./:;<=>?@[\\]^_`{|}~', lower=True)\n",
        "tokenizer.fit_on_texts(data['text'].values)\n",
        "X = tokenizer.texts_to_sequences(data['text'].values)\n",
        "X = pad_sequences(X)\n",
        "print('Found %s unique tokens.' % len(X))"
      ],
      "metadata": {
        "colab": {
          "base_uri": "https://localhost:8080/"
        },
        "id": "Xm0J-SrAgaqp",
        "outputId": "71d1a1b6-94ae-48f6-ecf4-d1f5373ac682"
      },
      "id": "Xm0J-SrAgaqp",
      "execution_count": 23,
      "outputs": [
        {
          "output_type": "stream",
          "name": "stdout",
          "text": [
            "Found 4837 unique tokens.\n"
          ]
        }
      ]
    },
    {
      "cell_type": "code",
      "source": [
        "X = tokenizer.texts_to_sequences(data['text'].values)\n",
        "X = pad_sequences(X, maxlen=MAX_SEQ_LENGTH)\n",
        "print('Shape of data tensor:', X.shape)"
      ],
      "metadata": {
        "colab": {
          "base_uri": "https://localhost:8080/"
        },
        "id": "6bqV61ncgj50",
        "outputId": "ee2eab5a-dcb9-4eb8-99a6-0bb13f32d19e"
      },
      "id": "6bqV61ncgj50",
      "execution_count": 25,
      "outputs": [
        {
          "output_type": "stream",
          "name": "stdout",
          "text": [
            "Shape of data tensor: (4837, 50)\n"
          ]
        }
      ]
    },
    {
      "cell_type": "code",
      "source": [
        "train_tagged.values[1387]"
      ],
      "metadata": {
        "colab": {
          "base_uri": "https://localhost:8080/"
        },
        "id": "ZKAzAWaQiBXm",
        "outputId": "2df69c3d-0fe2-41b8-9ff5-82df2b164049"
      },
      "id": "ZKAzAWaQiBXm",
      "execution_count": 26,
      "outputs": [
        {
          "output_type": "execute_result",
          "data": {
            "text/plain": [
              "TaggedDocument(words=['in', 'the', 'first', 'nine', 'months', 'of', '2010', ',', 'the', 'company', \"'s\", 'net', 'loss', 'narrowed', 'to', 'eur415', ',000', 'from', 'eur7', '.4', 'm', 'for', 'the', 'corresponding', 'period', 'of', '2009', '.'], tags=[2])"
            ]
          },
          "metadata": {},
          "execution_count": 26
        }
      ]
    },
    {
      "cell_type": "code",
      "source": [
        "d2v_model = Doc2Vec(dm=1, dm_mean=1, size=20, window=8, min_count=1, workers=1, alpha=0.065, min_alpha=0.065)\n",
        "d2v_model.build_vocab([x for x in tqdm(train_tagged.values)])"
      ],
      "metadata": {
        "colab": {
          "base_uri": "https://localhost:8080/"
        },
        "id": "_Kakre2KiJzv",
        "outputId": "47a1bbdb-248f-4f94-ada6-5356606a8460"
      },
      "id": "_Kakre2KiJzv",
      "execution_count": 33,
      "outputs": [
        {
          "output_type": "stream",
          "name": "stderr",
          "text": [
            "100%|██████████| 4836/4836 [00:00<00:00, 345901.33it/s]\n"
          ]
        }
      ]
    },
    {
      "cell_type": "code",
      "source": [
        "for epoch in range(15):\n",
        "    d2v_model.train(utils.shuffle([x for x in tqdm(train_tagged.values)]), total_examples=len(train_tagged.values), epochs=1)\n",
        "    d2v_model.alpha -= 0.002\n",
        "    d2v_model.min_alpha = d2v_model.alpha"
      ],
      "metadata": {
        "colab": {
          "base_uri": "https://localhost:8080/"
        },
        "id": "ms2U3pCIibMj",
        "outputId": "8e632dcc-ebe0-440d-a898-c73fc868355f"
      },
      "id": "ms2U3pCIibMj",
      "execution_count": 34,
      "outputs": [
        {
          "output_type": "stream",
          "name": "stderr",
          "text": [
            "100%|██████████| 4836/4836 [00:00<00:00, 338342.85it/s]\n",
            "100%|██████████| 4836/4836 [00:00<00:00, 929419.64it/s]\n",
            "100%|██████████| 4836/4836 [00:00<00:00, 573146.49it/s]\n",
            "100%|██████████| 4836/4836 [00:00<00:00, 834237.65it/s]\n",
            "100%|██████████| 4836/4836 [00:00<00:00, 832593.96it/s]\n",
            "100%|██████████| 4836/4836 [00:00<00:00, 1289488.50it/s]\n",
            "100%|██████████| 4836/4836 [00:00<00:00, 688865.82it/s]\n",
            "100%|██████████| 4836/4836 [00:00<00:00, 966072.31it/s]\n",
            "100%|██████████| 4836/4836 [00:00<00:00, 1449764.43it/s]\n",
            "100%|██████████| 4836/4836 [00:00<00:00, 1033614.66it/s]\n",
            "100%|██████████| 4836/4836 [00:00<00:00, 882627.13it/s]\n",
            "100%|██████████| 4836/4836 [00:00<00:00, 942067.44it/s]\n",
            "100%|██████████| 4836/4836 [00:00<00:00, 1079951.77it/s]\n",
            "100%|██████████| 4836/4836 [00:00<00:00, 772386.97it/s]\n",
            "100%|██████████| 4836/4836 [00:00<00:00, 1538972.24it/s]\n"
          ]
        }
      ]
    },
    {
      "cell_type": "code",
      "source": [
        "print(d2v_model)\n",
        "len(d2v_model.wv.vocab)"
      ],
      "metadata": {
        "colab": {
          "base_uri": "https://localhost:8080/"
        },
        "id": "MzMA4gFwiuET",
        "outputId": "801fb065-ce9b-4046-e5b6-16f1c8e2ea52"
      },
      "id": "MzMA4gFwiuET",
      "execution_count": 35,
      "outputs": [
        {
          "output_type": "stream",
          "name": "stdout",
          "text": [
            "Doc2Vec(dm/m,d20,n5,w8,s0.001)\n"
          ]
        },
        {
          "output_type": "execute_result",
          "data": {
            "text/plain": [
              "11695"
            ]
          },
          "metadata": {},
          "execution_count": 35
        }
      ]
    },
    {
      "cell_type": "code",
      "source": [
        "import numpy as np\n",
        "# save the vectors in a new matrix\n",
        "embedding_matrix = np.zeros((len(d2v_model.wv.vocab)+ 1, 20))\n",
        "\n",
        "for i, vec in enumerate(d2v_model.docvecs.vectors_docs):\n",
        "    while i in vec <= 1000:\n",
        "          embedding_matrix[i]=vec"
      ],
      "metadata": {
        "id": "N0V6SlQjizY3"
      },
      "id": "N0V6SlQjizY3",
      "execution_count": 36,
      "outputs": []
    },
    {
      "cell_type": "code",
      "source": [
        "d2v_model.wv.most_similar(positive=['profit'], topn=10)"
      ],
      "metadata": {
        "colab": {
          "base_uri": "https://localhost:8080/"
        },
        "id": "7cd-sGtBi7fL",
        "outputId": "c65dab44-c4f5-4174-d44e-3422e3e78108"
      },
      "id": "7cd-sGtBi7fL",
      "execution_count": 37,
      "outputs": [
        {
          "output_type": "execute_result",
          "data": {
            "text/plain": [
              "[('loss', 0.8918544054031372),\n",
              " ('pharma', 0.8250756859779358),\n",
              " ('profits', 0.7726687788963318),\n",
              " ('income', 0.7623971700668335),\n",
              " ('prepares', 0.7469966411590576),\n",
              " ('break-even', 0.7272443771362305),\n",
              " ('result', 0.72614586353302),\n",
              " ('mistake', 0.7259354591369629),\n",
              " ('42.5', 0.7187619209289551),\n",
              " ('margin', 0.7043426036834717)]"
            ]
          },
          "metadata": {},
          "execution_count": 37
        }
      ]
    },
    {
      "cell_type": "code",
      "source": [
        "d2v_model.wv.most_similar(positive=['investment'], topn=10)"
      ],
      "metadata": {
        "colab": {
          "base_uri": "https://localhost:8080/"
        },
        "id": "JkGt9jMTi9ay",
        "outputId": "755acf2d-ccb3-4da0-ba3f-71918f7a978f"
      },
      "id": "JkGt9jMTi9ay",
      "execution_count": 38,
      "outputs": [
        {
          "output_type": "execute_result",
          "data": {
            "text/plain": [
              "[('2-year', 0.7534468173980713),\n",
              " ('detailing', 0.7215679883956909),\n",
              " ('n.v.', 0.7198667526245117),\n",
              " ('rohwedder', 0.7198457717895508),\n",
              " ('property', 0.718389630317688),\n",
              " ('fleet', 0.7165646553039551),\n",
              " ('neomarkka', 0.7013294696807861),\n",
              " ('annual', 0.681770920753479),\n",
              " ('investor', 0.6785566210746765),\n",
              " ('wholly-owned', 0.6765480041503906)]"
            ]
          },
          "metadata": {},
          "execution_count": 38
        }
      ]
    },
    {
      "cell_type": "code",
      "source": [
        "from keras.models import Sequential\n",
        "from keras.layers import LSTM, Dense, Embedding\n",
        "\n",
        "\n",
        "model = Sequential()\n",
        "model.add(Embedding(len(d2v_model.wv.vocab)+1,20,input_length=X.shape[1],weights=[embedding_matrix],trainable=True))\n",
        "\n",
        "def split_input(sequence):\n",
        "     return sequence[:-1], tf.reshape(sequence[1:], (-1,1))\n",
        "model.add(LSTM(50,return_sequences=False))\n",
        "model.add(Dense(3,activation=\"softmax\"))\n",
        "\n",
        "# output model skeleton\n",
        "model.summary()\n",
        "model.compile(optimizer=\"adam\",loss=\"binary_crossentropy\",metrics=['acc'])"
      ],
      "metadata": {
        "colab": {
          "base_uri": "https://localhost:8080/"
        },
        "id": "Fzb-pHb9i_fe",
        "outputId": "bfbbcdb1-b693-4761-9dc5-0f7a2dd3034e"
      },
      "id": "Fzb-pHb9i_fe",
      "execution_count": 39,
      "outputs": [
        {
          "output_type": "stream",
          "name": "stdout",
          "text": [
            "Model: \"sequential\"\n",
            "_________________________________________________________________\n",
            " Layer (type)                Output Shape              Param #   \n",
            "=================================================================\n",
            " embedding (Embedding)       (None, 50, 20)            233920    \n",
            "                                                                 \n",
            " lstm (LSTM)                 (None, 50)                14200     \n",
            "                                                                 \n",
            " dense (Dense)               (None, 3)                 153       \n",
            "                                                                 \n",
            "=================================================================\n",
            "Total params: 248,273\n",
            "Trainable params: 248,273\n",
            "Non-trainable params: 0\n",
            "_________________________________________________________________\n"
          ]
        }
      ]
    },
    {
      "cell_type": "code",
      "source": [
        "Y = pd.get_dummies(data['Sentiment']).values\n",
        "X_train, X_test, Y_train, Y_test = train_test_split(X,Y, test_size = 0.15, random_state = 42)\n",
        "print(X_train.shape,Y_train.shape)\n",
        "print(X_test.shape,Y_test.shape)"
      ],
      "metadata": {
        "colab": {
          "base_uri": "https://localhost:8080/"
        },
        "id": "aHHGu4W6jLiz",
        "outputId": "87fc7a78-1cd8-4384-e84a-cbc1b1a59cbd"
      },
      "id": "aHHGu4W6jLiz",
      "execution_count": 43,
      "outputs": [
        {
          "output_type": "stream",
          "name": "stdout",
          "text": [
            "(4111, 50) (4111, 3)\n",
            "(726, 50) (726, 3)\n"
          ]
        }
      ]
    },
    {
      "cell_type": "code",
      "source": [
        "batch_size = 15\n",
        "history=model.fit(X_train, Y_train, epochs =50, batch_size=batch_size, verbose = 2)"
      ],
      "metadata": {
        "colab": {
          "base_uri": "https://localhost:8080/"
        },
        "id": "9nRD4FqOjOUi",
        "outputId": "ce2b2b17-e15b-4c80-a110-a59171201009"
      },
      "id": "9nRD4FqOjOUi",
      "execution_count": 45,
      "outputs": [
        {
          "output_type": "stream",
          "name": "stdout",
          "text": [
            "Epoch 1/50\n",
            "275/275 - 7s - loss: 0.0475 - acc: 0.9791 - 7s/epoch - 26ms/step\n",
            "Epoch 2/50\n",
            "275/275 - 8s - loss: 0.0515 - acc: 0.9769 - 8s/epoch - 31ms/step\n",
            "Epoch 3/50\n",
            "275/275 - 7s - loss: 0.0318 - acc: 0.9869 - 7s/epoch - 25ms/step\n",
            "Epoch 4/50\n",
            "275/275 - 8s - loss: 0.0250 - acc: 0.9910 - 8s/epoch - 31ms/step\n",
            "Epoch 5/50\n",
            "275/275 - 7s - loss: 0.0231 - acc: 0.9912 - 7s/epoch - 25ms/step\n",
            "Epoch 6/50\n",
            "275/275 - 8s - loss: 0.0245 - acc: 0.9905 - 8s/epoch - 31ms/step\n",
            "Epoch 7/50\n",
            "275/275 - 7s - loss: 0.0167 - acc: 0.9946 - 7s/epoch - 25ms/step\n",
            "Epoch 8/50\n",
            "275/275 - 11s - loss: 0.0147 - acc: 0.9939 - 11s/epoch - 39ms/step\n",
            "Epoch 9/50\n",
            "275/275 - 8s - loss: 0.0164 - acc: 0.9925 - 8s/epoch - 28ms/step\n",
            "Epoch 10/50\n",
            "275/275 - 8s - loss: 0.0188 - acc: 0.9922 - 8s/epoch - 28ms/step\n",
            "Epoch 11/50\n",
            "275/275 - 8s - loss: 0.0148 - acc: 0.9929 - 8s/epoch - 29ms/step\n",
            "Epoch 12/50\n",
            "275/275 - 7s - loss: 0.0095 - acc: 0.9964 - 7s/epoch - 27ms/step\n",
            "Epoch 13/50\n",
            "275/275 - 9s - loss: 0.0110 - acc: 0.9946 - 9s/epoch - 31ms/step\n",
            "Epoch 14/50\n",
            "275/275 - 7s - loss: 0.0147 - acc: 0.9939 - 7s/epoch - 25ms/step\n",
            "Epoch 15/50\n",
            "275/275 - 9s - loss: 0.0070 - acc: 0.9961 - 9s/epoch - 31ms/step\n",
            "Epoch 16/50\n",
            "275/275 - 7s - loss: 0.0099 - acc: 0.9959 - 7s/epoch - 26ms/step\n",
            "Epoch 17/50\n",
            "275/275 - 8s - loss: 0.0140 - acc: 0.9944 - 8s/epoch - 31ms/step\n",
            "Epoch 18/50\n",
            "275/275 - 7s - loss: 0.0096 - acc: 0.9951 - 7s/epoch - 25ms/step\n",
            "Epoch 19/50\n",
            "275/275 - 8s - loss: 0.0048 - acc: 0.9973 - 8s/epoch - 31ms/step\n",
            "Epoch 20/50\n",
            "275/275 - 8s - loss: 0.0094 - acc: 0.9961 - 8s/epoch - 28ms/step\n",
            "Epoch 21/50\n",
            "275/275 - 8s - loss: 0.0089 - acc: 0.9961 - 8s/epoch - 29ms/step\n",
            "Epoch 22/50\n",
            "275/275 - 8s - loss: 0.0060 - acc: 0.9964 - 8s/epoch - 29ms/step\n",
            "Epoch 23/50\n",
            "275/275 - 7s - loss: 0.0034 - acc: 0.9983 - 7s/epoch - 27ms/step\n",
            "Epoch 24/50\n",
            "275/275 - 9s - loss: 0.0027 - acc: 0.9985 - 9s/epoch - 32ms/step\n",
            "Epoch 25/50\n",
            "275/275 - 7s - loss: 0.0020 - acc: 0.9990 - 7s/epoch - 25ms/step\n",
            "Epoch 26/50\n",
            "275/275 - 9s - loss: 0.0023 - acc: 0.9990 - 9s/epoch - 31ms/step\n",
            "Epoch 27/50\n",
            "275/275 - 7s - loss: 0.0018 - acc: 0.9985 - 7s/epoch - 25ms/step\n",
            "Epoch 28/50\n",
            "275/275 - 9s - loss: 0.0158 - acc: 0.9925 - 9s/epoch - 31ms/step\n",
            "Epoch 29/50\n",
            "275/275 - 7s - loss: 0.0160 - acc: 0.9927 - 7s/epoch - 26ms/step\n",
            "Epoch 30/50\n",
            "275/275 - 9s - loss: 0.0145 - acc: 0.9937 - 9s/epoch - 31ms/step\n",
            "Epoch 31/50\n",
            "275/275 - 8s - loss: 0.0037 - acc: 0.9978 - 8s/epoch - 28ms/step\n",
            "Epoch 32/50\n",
            "275/275 - 8s - loss: 0.0021 - acc: 0.9983 - 8s/epoch - 29ms/step\n",
            "Epoch 33/50\n",
            "275/275 - 9s - loss: 0.0021 - acc: 0.9988 - 9s/epoch - 32ms/step\n",
            "Epoch 34/50\n",
            "275/275 - 7s - loss: 0.0022 - acc: 0.9985 - 7s/epoch - 26ms/step\n",
            "Epoch 35/50\n",
            "275/275 - 9s - loss: 0.0014 - acc: 0.9993 - 9s/epoch - 32ms/step\n",
            "Epoch 36/50\n",
            "275/275 - 7s - loss: 0.0011 - acc: 0.9993 - 7s/epoch - 26ms/step\n",
            "Epoch 37/50\n",
            "275/275 - 9s - loss: 0.0020 - acc: 0.9988 - 9s/epoch - 32ms/step\n",
            "Epoch 38/50\n",
            "275/275 - 7s - loss: 0.0165 - acc: 0.9937 - 7s/epoch - 26ms/step\n",
            "Epoch 39/50\n",
            "275/275 - 9s - loss: 0.0073 - acc: 0.9966 - 9s/epoch - 32ms/step\n",
            "Epoch 40/50\n",
            "275/275 - 8s - loss: 0.0036 - acc: 0.9981 - 8s/epoch - 27ms/step\n",
            "Epoch 41/50\n",
            "275/275 - 8s - loss: 0.0026 - acc: 0.9981 - 8s/epoch - 30ms/step\n",
            "Epoch 42/50\n",
            "275/275 - 8s - loss: 0.0137 - acc: 0.9954 - 8s/epoch - 31ms/step\n",
            "Epoch 43/50\n",
            "275/275 - 7s - loss: 0.0050 - acc: 0.9973 - 7s/epoch - 27ms/step\n",
            "Epoch 44/50\n",
            "275/275 - 9s - loss: 0.0029 - acc: 0.9985 - 9s/epoch - 31ms/step\n",
            "Epoch 45/50\n",
            "275/275 - 7s - loss: 0.0011 - acc: 0.9995 - 7s/epoch - 25ms/step\n",
            "Epoch 46/50\n",
            "275/275 - 9s - loss: 0.0011 - acc: 0.9990 - 9s/epoch - 31ms/step\n",
            "Epoch 47/50\n",
            "275/275 - 7s - loss: 0.0013 - acc: 0.9990 - 7s/epoch - 25ms/step\n",
            "Epoch 48/50\n",
            "275/275 - 9s - loss: 8.1741e-04 - acc: 0.9995 - 9s/epoch - 31ms/step\n",
            "Epoch 49/50\n",
            "275/275 - 7s - loss: 7.7497e-04 - acc: 0.9993 - 7s/epoch - 27ms/step\n",
            "Epoch 50/50\n",
            "275/275 - 8s - loss: 6.7690e-04 - acc: 0.9995 - 8s/epoch - 30ms/step\n"
          ]
        }
      ]
    },
    {
      "cell_type": "code",
      "source": [
        "import matplotlib.pyplot as plt\n",
        "\n",
        "plt.plot(history.history['acc'])\n",
        "plt.title('model accuracy')\n",
        "plt.ylabel('acc')\n",
        "plt.xlabel('epochs')\n",
        "plt.legend(['train', 'test'], loc='upper left')\n",
        "plt.show()\n",
        "plt.savefig('model_accuracy.png')\n",
        "\n",
        "plt.plot(history.history['loss'])\n",
        "plt.title('model loss')\n",
        "plt.ylabel('loss')\n",
        "plt.xlabel('epochs')\n",
        "plt.legend(['train', 'test'], loc='upper left')\n",
        "plt.show()\n",
        "plt.savefig('model_loss.png')"
      ],
      "metadata": {
        "colab": {
          "base_uri": "https://localhost:8080/",
          "height": 590
        },
        "id": "LVMH4Q_8jZVg",
        "outputId": "b819a974-247d-4f7f-8d16-3c347b3ff940"
      },
      "id": "LVMH4Q_8jZVg",
      "execution_count": 47,
      "outputs": [
        {
          "output_type": "display_data",
          "data": {
            "text/plain": [
              "<Figure size 432x288 with 1 Axes>"
            ],
            "image/png": "[encoded data removed]"
          },
          "metadata": {
            "needs_background": "light"
          }
        },
        {
          "output_type": "display_data",
          "data": {
            "text/plain": [
              "<Figure size 432x288 with 1 Axes>"
            ],
            "image/png": "[encoded data removed]"
          },
          "metadata": {
            "needs_background": "light"
          }
        },
        {
          "output_type": "display_data",
          "data": {
            "text/plain": [
              "<Figure size 432x288 with 0 Axes>"
            ]
          },
          "metadata": {}
        }
      ]
    },
    {
      "cell_type": "code",
      "source": [
        "_, train_acc = model.evaluate(X_train, Y_train, verbose=2)\n",
        "_, test_acc = model.evaluate(X_test, Y_test, verbose=2)\n",
        "print('Train: %.3f, Test: %.4f' % (train_acc, test_acc))"
      ],
      "metadata": {
        "colab": {
          "base_uri": "https://localhost:8080/"
        },
        "id": "mzOdTB1tmfiG",
        "outputId": "97bf66e0-bd0b-448d-9fa9-5b45fdc4ac9f"
      },
      "id": "mzOdTB1tmfiG",
      "execution_count": 48,
      "outputs": [
        {
          "output_type": "stream",
          "name": "stdout",
          "text": [
            "129/129 - 3s - loss: 5.7867e-04 - acc: 0.9995 - 3s/epoch - 24ms/step\n",
            "23/23 - 1s - loss: 1.4243 - acc: 0.7080 - 579ms/epoch - 25ms/step\n",
            "Train: 1.000, Test: 0.7080\n"
          ]
        }
      ]
    },
    {
      "cell_type": "code",
      "source": [],
      "metadata": {
        "id": "oVXdWLUkmrwO"
      },
      "id": "oVXdWLUkmrwO",
      "execution_count": null,
      "outputs": []
    }
  ],
  "metadata": {
    "kernelspec": {
      "display_name": "Python 3 (ipykernel)",
      "language": "python",
      "name": "python3"
    },
    "language_info": {
      "codemirror_mode": {
        "name": "ipython",
        "version": 3
      },
      "file_extension": ".py",
      "mimetype": "text/x-python",
      "name": "python",
      "nbconvert_exporter": "python",
      "pygments_lexer": "ipython3",
      "version": "3.9.13"
    },
    "colab": {
      "provenance": []
    }
  },
  "nbformat": 4,
  "nbformat_minor": 5
}